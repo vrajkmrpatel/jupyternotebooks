{
 "cells": [
  {
   "cell_type": "code",
   "execution_count": 2,
   "id": "e4c70ca8",
   "metadata": {},
   "outputs": [
    {
     "name": "stdout",
     "output_type": "stream",
     "text": [
      "Enrollment no = 200130107039\n",
      "Practical no= 1\n",
      "0 Even\n",
      "1 odd\n",
      "2 Even\n",
      "3 divisible by 3\n",
      "4 Even\n",
      "I'm loopy!\n",
      "Positive value\n",
      "I'm loopy!\n",
      "Negative value\n",
      "I'm loopy!\n",
      "Negative value\n"
     ]
    }
   ],
   "source": [
    "enroll = 200130107039\n",
    "print(\"Enrollment no =\",enroll) \n",
    "print(\"Practical no= 1\")\n",
    "for i in range(5): \n",
    "    if i%2 == 0:\n",
    "        print(str(i) + ' Even') \n",
    "    elif i%3==0:\n",
    "        print(str(i) + ' divisible by 3') \n",
    "    else:\n",
    "        print(str(i) + ' odd')\n",
    "\n",
    "i=0\n",
    "while i < 3: \n",
    "    print(\"I'm loopy!\") \n",
    "    i += 1\n",
    "    if i == 1:\n",
    "        print('Positive value') \n",
    "    else:\n",
    "        print(\"Negative value\")\n"
   ]
  },
  {
   "cell_type": "code",
   "execution_count": 3,
   "id": "7e9dfa5f",
   "metadata": {},
   "outputs": [
    {
     "name": "stdout",
     "output_type": "stream",
     "text": [
      "Enrollment no = 200130107039\n",
      "Practical no= 2\n",
      "Practical Title= understand different types of structure(list, dictionary, tuples)\n",
      "Our list: [1]\n",
      "Our list: [1, 2]\n",
      "Our list: [1, 2, 3]\n",
      "Our list: [1, 2, 3, 4]\n",
      "Our list: [1, 2, 3, 4, 5]\n",
      "after mutation: [1, 2, 'PYTHON', 4, 5]\n",
      "dict: {1: 'apple'}\n",
      "['apple', 'banana', 'grapes']\n",
      "dict: {1: 'apple', 2: 'banana'}\n",
      "['apple', 'banana', 'grapes']\n",
      "dict: {1: 'apple', 2: 'banana', 3: 'grapes'}\n",
      "['apple', 'banana', 'grapes']\n",
      "{1, 2, 3, 'b', 'a'}\n"
     ]
    }
   ],
   "source": [
    "print(\"Enrollment no =\", enroll)\n",
    "print(\"Practical no= 2\")\n",
    "print(\"Practical Title= understand different types of structure(list, dictionary, tuples)\")\n",
    "lst = list()\n",
    "\n",
    "for i in range(1, 6):\n",
    "    lst.append(i)\n",
    "    print('Our list:', lst)\n",
    "lst[2] = 'PYTHON'\n",
    "\n",
    "print('after mutation:', lst)\n",
    "dct = {}\n",
    "fruit = ['apple', 'banana', 'grapes']\n",
    "for i in range(1, 4):\n",
    "    dct[i] = fruit[i-1]\n",
    "    print('dict:', dct)\n",
    "    tpl = ([ft for ft in fruit])\n",
    "    print(tpl)\n",
    "A = set([1, 2, 3, 'a', 1, 'b'])\n",
    "print(A)\n"
   ]
  },
  {
   "cell_type": "code",
   "execution_count": null,
   "id": "9b00fe48",
   "metadata": {},
   "outputs": [],
   "source": [
    "print(\"Enrollment no =\",enroll) print(\"Practical no= 3\")\n",
    "print(\"Practical Title= understand the functions scoping, recursion and list mutabilit\") import datetime as dt\n",
    "def myfunc(): x=100\n",
    "print(x) myfunc()\n",
    "def get_date():\n",
    "\n",
    "dt = datetime.datetime.now().date() def printfnc():\n",
    "print(\"Today's date: \" + str(dt)) printfnc()\n",
    "get_date()\n",
    "\n",
    "\n",
    "\n",
    "def my_name(): name = 'Joey' print(name)\n",
    "name='Joey Tribbiani' my_name()\n",
    "def get_itr(num):\n",
    "\n",
    "if num <= 0: return 1\n",
    "\n",
    "elif num == 1: return 1 else:\n",
    "return num*get_itr(num-1) ans = get_itr(5)\n",
    "print(ans) #list\n",
    "lst = [i*i for i in range(1, 6)] print('Before mutation: ' + str(lst[2]))\n"
   ]
  }
 ],
 "metadata": {
  "kernelspec": {
   "display_name": "Python 3 (ipykernel)",
   "language": "python",
   "name": "python3"
  },
  "language_info": {
   "codemirror_mode": {
    "name": "ipython",
    "version": 3
   },
   "file_extension": ".py",
   "mimetype": "text/x-python",
   "name": "python",
   "nbconvert_exporter": "python",
   "pygments_lexer": "ipython3",
   "version": "3.9.12"
  }
 },
 "nbformat": 4,
 "nbformat_minor": 5
}
